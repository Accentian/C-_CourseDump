{
 "cells": [
  {
   "cell_type": "markdown",
   "id": "3e46448b-9273-4ff6-b604-f61e09de9ba1",
   "metadata": {},
   "source": [
    "**Conventions: Type Casting** "
   ]
  },
  {
   "cell_type": "code",
   "execution_count": 1,
   "id": "f5b4e4c7-a0d3-498e-a290-42ccf80abfd1",
   "metadata": {},
   "outputs": [],
   "source": [
    "import numpy as np\n",
    "from sklearn import random_projection"
   ]
  },
  {
   "cell_type": "code",
   "execution_count": 7,
   "id": "942c5bfe-f3f4-4b9f-8f52-d907008d8dde",
   "metadata": {
    "tags": []
   },
   "outputs": [
    {
     "data": {
      "text/plain": [
       "dtype('float32')"
      ]
     },
     "execution_count": 7,
     "metadata": {},
     "output_type": "execute_result"
    }
   ],
   "source": [
    "rng = np.random.RandomState(0)\n",
    "X = rng.rand(10, 2000)\n",
    "X = np.array(X, dtype = 'float32')\n",
    "X.dtype"
   ]
  },
  {
   "cell_type": "markdown",
   "id": "59dc23cf-ef2f-4f34-8c4e-5edbb55c0133",
   "metadata": {},
   "source": [
    "**Copy & Pasted:** Here, the first predict() returns an integer array, since iris.target (an integer array) was used in fit. The second predict() returns a string array, since iris.target_names was for fitting.\n",
    "\n",
    "**---------------------BREAK-----------------------------**"
   ]
  },
  {
   "cell_type": "code",
   "execution_count": 3,
   "id": "ec1fcc84-fa85-4cc4-ae90-60f1141efe6b",
   "metadata": {},
   "outputs": [
    {
     "data": {
      "text/plain": [
       "SVC()"
      ]
     },
     "execution_count": 3,
     "metadata": {},
     "output_type": "execute_result"
    }
   ],
   "source": [
    "from sklearn import datasets\n",
    "from sklearn.svm import SVC\n",
    "iris = datasets.load_iris()\n",
    "clf = SVC()\n",
    "clf.fit(iris.data, iris.target)"
   ]
  },
  {
   "cell_type": "code",
   "execution_count": 4,
   "id": "3382bd48-f367-4ab6-bd3b-3bd869c4a7d6",
   "metadata": {},
   "outputs": [
    {
     "data": {
      "text/plain": [
       "[0, 0, 0]"
      ]
     },
     "execution_count": 4,
     "metadata": {},
     "output_type": "execute_result"
    }
   ],
   "source": [
    "list(clf.predict(iris.data[:3]))"
   ]
  },
  {
   "cell_type": "code",
   "execution_count": 5,
   "id": "a9eb3dcf-9657-4af1-bc2b-5e4e1c06c0fe",
   "metadata": {},
   "outputs": [
    {
     "data": {
      "text/plain": [
       "SVC()"
      ]
     },
     "execution_count": 5,
     "metadata": {},
     "output_type": "execute_result"
    }
   ],
   "source": [
    "clf.fit(iris.data, iris.target_names[iris.target])"
   ]
  },
  {
   "cell_type": "code",
   "execution_count": 6,
   "id": "733d38c0-e2c0-4a7e-9bfb-d7e405de3570",
   "metadata": {},
   "outputs": [
    {
     "data": {
      "text/plain": [
       "['setosa', 'setosa', 'setosa']"
      ]
     },
     "execution_count": 6,
     "metadata": {},
     "output_type": "execute_result"
    }
   ],
   "source": [
    "list(clf.predict(iris.data[:3]))"
   ]
  },
  {
   "cell_type": "markdown",
   "id": "3d53b58a-d80b-48a8-bcaa-6d19448b602b",
   "metadata": {},
   "source": [
    "**---------------------BREAK-----------------------------**\n",
    "\n",
    "**Refitting and updating parameters**"
   ]
  },
  {
   "cell_type": "code",
   "execution_count": 8,
   "id": "db768e8a-f35c-4662-828e-d2840f34e853",
   "metadata": {},
   "outputs": [],
   "source": [
    "import numpy as np\n",
    "from sklearn.datasets import load_iris\n",
    "from sklearn.svm import SVC\n",
    "X, y = load_iris(return_X_y=True)"
   ]
  },
  {
   "cell_type": "code",
   "execution_count": 9,
   "id": "0451feb4-57ea-4f8f-88e5-cfdb4132af90",
   "metadata": {},
   "outputs": [
    {
     "data": {
      "text/plain": [
       "SVC(kernel='linear')"
      ]
     },
     "execution_count": 9,
     "metadata": {},
     "output_type": "execute_result"
    }
   ],
   "source": [
    "clf = SVC()\n",
    "clf.set_params(kernel='linear').fit(X, y)"
   ]
  },
  {
   "cell_type": "code",
   "execution_count": 10,
   "id": "e0edfe50-b847-4446-b87b-38153b69b221",
   "metadata": {},
   "outputs": [
    {
     "data": {
      "text/plain": [
       "array([0, 0, 0, 0, 0])"
      ]
     },
     "execution_count": 10,
     "metadata": {},
     "output_type": "execute_result"
    }
   ],
   "source": [
    "clf.predict(X[:5])"
   ]
  },
  {
   "cell_type": "code",
   "execution_count": 11,
   "id": "cb281255-ae0b-43ad-8eee-21f33e40aa33",
   "metadata": {},
   "outputs": [
    {
     "data": {
      "text/plain": [
       "SVC()"
      ]
     },
     "execution_count": 11,
     "metadata": {},
     "output_type": "execute_result"
    }
   ],
   "source": [
    "clf.set_params(kernel='rbf').fit(X, y)"
   ]
  },
  {
   "cell_type": "code",
   "execution_count": 12,
   "id": "75665222-ea31-45d6-ae4c-d34fdcf3f344",
   "metadata": {},
   "outputs": [
    {
     "data": {
      "text/plain": [
       "array([0, 0, 0, 0, 0])"
      ]
     },
     "execution_count": 12,
     "metadata": {},
     "output_type": "execute_result"
    }
   ],
   "source": [
    "clf.predict(X[:5])"
   ]
  },
  {
   "cell_type": "markdown",
   "id": "01c23b84-5aaf-41ef-84b2-87a11abdd496",
   "metadata": {},
   "source": [
    "Here, the default kernel **rbf** is first changed to **linear** via *SVC.set_params()* after the estimator has been constructed, and changed back to **rbf** to refit the estimator and to make a second prediction.\n",
    "\n",
    "Simplest term: We change set kernel to **rbf** and changed it to **linear**, then change it back to **rbf** with *SVR.set_params()*.\n",
    "\n",
    "**---------------------BREAK-----------------------------**\n",
    "\n",
    "**Multiclass vs. multilabel fitting**"
   ]
  },
  {
   "cell_type": "code",
   "execution_count": null,
   "id": "6305f64b-22bd-4418-9efe-4b1e2ba942f3",
   "metadata": {},
   "outputs": [],
   "source": []
  }
 ],
 "metadata": {
  "kernelspec": {
   "display_name": "Python 3",
   "language": "python",
   "name": "python3"
  },
  "language_info": {
   "codemirror_mode": {
    "name": "ipython",
    "version": 3
   },
   "file_extension": ".py",
   "mimetype": "text/x-python",
   "name": "python",
   "nbconvert_exporter": "python",
   "pygments_lexer": "ipython3",
   "version": "3.8.8"
  }
 },
 "nbformat": 4,
 "nbformat_minor": 5
}
