{
 "cells": [
  {
   "cell_type": "code",
   "execution_count": 1,
   "id": "56e26938-5f9d-46fc-8a64-370088410de4",
   "metadata": {},
   "outputs": [],
   "source": [
    "from sklearn import datasets, neighbors, linear_model\n",
    "\n",
    "X_digits, y_digits = datasets.load_digits(return_X_y=True)\n",
    "X_digits = X_digits / X_digits.max()"
   ]
  },
  {
   "cell_type": "code",
   "execution_count": 2,
   "id": "f78acf2f-2457-41ff-9589-b7358eccc834",
   "metadata": {},
   "outputs": [],
   "source": [
    "# Split data into training and testing sets\n",
    "\n",
    "#X_digits.shape\n",
    "N = len(X_digits) # Number of rows / size of the total data\n",
    "K = int(0.9 * N) # Make our own constant\n",
    "\n",
    "train_x = X_digits[:K] # Ends with that index\n",
    "train_y = y_digits[:K]\n",
    "\n",
    "test_x = X_digits[K:] # Starts with that index\n",
    "test_y = y_digits[K:] \n",
    "\n",
    "#print(len(train_y)) Checking things and lengths\n",
    "#print(len(test_y))\n",
    "#print(\"K =\", K) "
   ]
  },
  {
   "cell_type": "code",
   "execution_count": 3,
   "id": "6672e737-d358-45e2-948e-cc96c57834e2",
   "metadata": {},
   "outputs": [
    {
     "name": "stdout",
     "output_type": "stream",
     "text": [
      "KNN Score: 0.98\n"
     ]
    }
   ],
   "source": [
    "# Train a KNN model\n",
    "# You can put n_neighbors = random number here into classifier parameters\n",
    "# n_neighbors is the number/distance of neighbors in this case ???\n",
    "myKNN = neighbors.KNeighborsClassifier(n_neighbors = 2) # Try not to use even\n",
    "myKNN.fit(train_x, train_y)\n",
    "\n",
    "# Check the performance of our model\n",
    "print(\"KNN Score: %.2f\" % myKNN.score(test_x, test_y)) # roughly 96% accurate"
   ]
  },
  {
   "cell_type": "code",
   "execution_count": 5,
   "id": "30a49f01-1b3d-4ddd-ab5c-0800d4f74e1c",
   "metadata": {},
   "outputs": [
    {
     "name": "stdout",
     "output_type": "stream",
     "text": [
      "Logistic Regression Score = 0.93\n"
     ]
    }
   ],
   "source": [
    "# Train a logistic regression model (our target is discrete instead of continous)\n",
    "myLogistic = linear_model.LogisticRegression(max_iter = 1000) # Iteration must cause convergence, find a good iteration!\n",
    "myLogistic.fit(train_x, train_y)\n",
    "score = myLogistic.score(test_x, test_y)\n",
    "print(\"Logistic Regression Score = %.2f\" % score)"
   ]
  },
  {
   "cell_type": "code",
   "execution_count": null,
   "id": "9fb61424-76d1-46c6-a019-59d964cfbe5f",
   "metadata": {},
   "outputs": [],
   "source": []
  }
 ],
 "metadata": {
  "kernelspec": {
   "display_name": "Python 3",
   "language": "python",
   "name": "python3"
  },
  "language_info": {
   "codemirror_mode": {
    "name": "ipython",
    "version": 3
   },
   "file_extension": ".py",
   "mimetype": "text/x-python",
   "name": "python",
   "nbconvert_exporter": "python",
   "pygments_lexer": "ipython3",
   "version": "3.8.8"
  }
 },
 "nbformat": 4,
 "nbformat_minor": 5
}
